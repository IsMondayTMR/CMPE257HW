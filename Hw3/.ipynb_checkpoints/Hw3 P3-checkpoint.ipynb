{
 "cells": [
  {
   "cell_type": "code",
   "execution_count": 1,
   "metadata": {},
   "outputs": [],
   "source": [
    "# Import packages\n",
    "import h5py \n",
    "import matplotlib.pyplot as plt\n",
    "import numpy as np\n",
    "import seaborn as sns"
   ]
  },
  {
   "cell_type": "code",
   "execution_count": 2,
   "metadata": {},
   "outputs": [],
   "source": [
    "def X_cal(X,W):\n",
    "    #     Wt = np.transpose(W)\n",
    "    S = np.matmul(W, X)\n",
    "    X = np.tanh(S)\n",
    "#     X = np.vstack([[1], X])\n",
    "    return X, S"
   ]
  },
  {
   "cell_type": "code",
   "execution_count": 3,
   "metadata": {},
   "outputs": [],
   "source": [
    "def initialWeigths(NEXT_LAYER_SIZE, INPUT_LAYER_SIZE):\n",
    "    W = np.random.randn(INPUT_LAYER_SIZE, NEXT_LAYER_SIZE) * \\\n",
    "                np.sqrt(2.0/INPUT_LAYER_SIZE)*0.01\n",
    "    return W"
   ]
  },
  {
   "cell_type": "code",
   "execution_count": 4,
   "metadata": {},
   "outputs": [],
   "source": [
    "def cost(output_last,y,layers):\n",
    "    return 1/layers(output_last - y)**2"
   ]
  },
  {
   "cell_type": "code",
   "execution_count": 5,
   "metadata": {},
   "outputs": [],
   "source": [
    "def tanh_prime(x):\n",
    "#     t=(np.exp(x)-np.exp(-x))/(np.exp(x)+np.exp(-x))\n",
    "    dt=1-x**2\n",
    "    return dt\n",
    "\n",
    "def point_wise(x,y): #theta for layer l\n",
    "    result = 1-np.multiply(x,y)\n",
    "    return result"
   ]
  },
  {
   "cell_type": "code",
   "execution_count": 6,
   "metadata": {},
   "outputs": [],
   "source": [
    "def delta_cal(X,W,delta_last):\n",
    "    delta = tanh_prime(X)*delta_last*W\n",
    "    return delta"
   ]
  },
  {
   "cell_type": "code",
   "execution_count": 320,
   "metadata": {},
   "outputs": [],
   "source": [
    "def altogether(W,X,Y):\n",
    "    Ein = 0.0\n",
    "    G = 0.0\n",
    "    W_len = len(W)\n",
    "    X_array = [] # array to save forward X of each layer\n",
    "    Xbiased_array= [] # array to save forward X with biased node of each layer\n",
    "    S_array = [] # array to save forward S of each layer\n",
    "    delta_array= []\n",
    "    dw_array= []\n",
    "    \n",
    "    for i in range (0,W_len): #forward\n",
    "#         print(i)\n",
    "        if(i == 0):\n",
    "            X_array.append(X)\n",
    "            Xbiased = np.vstack([[1], X])\n",
    "#             Xbiased = np.insert(X,0,1)\n",
    "            Xbiased_array.append(Xbiased)\n",
    "            \n",
    "#             print(\"Xbiased_array\", Xbiased_array[i])\n",
    "#             print(\"W[i]\", W[i])\n",
    "#             print(\"S_array\", S_array)\n",
    "\n",
    "            WT = W[i].T\n",
    "#             print(\"WT\",WT)\n",
    "            \n",
    "            Xtemp, Stemp = X_cal(Xbiased_array[i],WT)\n",
    "#             print(\"Stemp\",Stemp)\n",
    "            X_array.append(Xtemp)\n",
    "            Xbiased = np.vstack([[1], Xtemp])\n",
    "#             Xbiased = np.insert(Xtemp,0,1)\n",
    "            Xbiased_array.append(Xbiased)\n",
    "            S_array.append(Stemp)\n",
    "        else:\n",
    "            WT = W[i].T\n",
    "#             print(\"WT\",WT)\n",
    "#             print(\"Xbiased_array[i]\",Xbiased_array[i])\n",
    "            Xtemp, Stemp = X_cal(Xbiased_array[i],WT) #temp save x and s from the forward\n",
    "#             print(\"Stemp\",Stemp)\n",
    "            X_array.append(Xtemp)\n",
    "            Xbiased = np.vstack([[1], Xtemp])\n",
    "#             Xbiased = np.insert(Xtemp,0,1)\n",
    "            Xbiased_array.append(Xbiased)\n",
    "            S_array.append(Stemp)\n",
    "    count = 0;\n",
    "    \n",
    "    \n",
    "    for j in range (W_len,0,-1): #Wlen is the L \n",
    "#         print('count',count)\n",
    "#         print(\"j\",j)\n",
    "        if(j == W_len): #layer L\n",
    "#   \n",
    "            dtanh = tanh_prime(X_array[j])\n",
    "            delta = 2*(X_array[j]-Y)*dtanh\n",
    "            dw = X_array[j-1]*delta.T\n",
    "            delta_array.append(delta)\n",
    "            dw_array.append(dw)\n",
    "            \n",
    "        else:#layer l\n",
    "\n",
    "            W_temp = np.delete(W[j],0)\n",
    "            dtanh = tanh_prime(X_array[j])\n",
    "            print(delta_array[count])\n",
    "            delta = dtanh.T*(delta_array[count]*W_temp)\n",
    "\n",
    "#             dw = X_array[j-1]*delta.T\n",
    "#             dw = X_array[j-1]*delta.T\n",
    "            delta_array.append(delta)\n",
    "#             dw_array.append(dw)\n",
    "            count += 1\n",
    "   \n",
    "#     Ein = Ein + 1/(W_len)*(X_array[W_len]-Y)**2\n",
    "#     print(\"Ein\", Ein)\n",
    "#     for l in range(1,W_len+1):\n",
    "#         GX = X_array[l-1]*delta_array[W_len-l]\n",
    "#         print(\"GX\",GX)\n",
    "# #         G = G + 1/(W_len)*GX\n",
    "# #         print(\"G\",G)\n",
    "    return  X_array, S_array,delta_array"
   ]
  },
  {
   "cell_type": "code",
   "execution_count": 321,
   "metadata": {},
   "outputs": [
    {
     "name": "stdout",
     "output_type": "stream",
     "text": [
      "[[-1.85486437]]\n",
      "[[-0.69451848]]\n",
      "X_array \n",
      " [array([[2]]), array([[0.60436778],\n",
      "       [0.76159416]]), array([[-0.90154565]]), array([[-0.66576144]])]\n",
      "S_array \n",
      " [array([[0.7],\n",
      "       [1. ]]), array([[-1.48041469]]), array([[-0.80309131]])]\n",
      "delta_array \n",
      " [array([[-1.85486437]]), array([[-0.69451848]]), array([[-0.44083838,  0.87503983]])]\n"
     ]
    }
   ],
   "source": [
    "X_ = np.array([[2]]) #input layer\n",
    "Y_ = np.array([[1]]) #output layer\n",
    "W1_ =np.array([[0.1,0.2],[0.3,0.4]])\n",
    "W2_ =np.array([[0.2],[1],[-3]])\n",
    "# W2_ =np.array([[0.2,0.5],[1,4],[-3,5]])\n",
    "W3_ =np.array([[1],[2]])\n",
    "# W3_ =np.array([[1],[2],[3]])\n",
    "\n",
    "W_array_= []\n",
    "W_array_.append(W1_)\n",
    "W_array_.append(W2_)\n",
    "W_array_.append(W3_)\n",
    "X_array, S_array ,delta_array = altogether(W_array_,X_,Y_)\n",
    "print(\"X_array \\n\", X_array)\n",
    "print(\"S_array \\n\", S_array)\n",
    "print(\"delta_array \\n\", delta_array)\n",
    "# print(\"dw \\n\", dw)"
   ]
  },
  {
   "cell_type": "code",
   "execution_count": 300,
   "metadata": {},
   "outputs": [
    {
     "name": "stdout",
     "output_type": "stream",
     "text": [
      "[[-1.988518]]\n",
      "[[0.01218316]\n",
      " [0.00946   ]]\n",
      "X_array [array([[3],\n",
      "       [2]]), array([[-0.01651315],\n",
      "       [ 0.0260307 ]]), array([[0.0057086]])]\n",
      "S_array [array([[-0.01651465],\n",
      "       [ 0.02603658]]), array([[0.00570866]])]\n",
      "delta_array \n",
      " [array([[-1.988518]]), array([[0.01218316],\n",
      "       [0.00946   ]])]\n",
      "dw \n",
      " [array([[ 0.03283669],\n",
      "       [-0.05176252]]), array([[0.03654949, 0.02838001],\n",
      "       [0.02436633, 0.01892001]])]\n"
     ]
    }
   ],
   "source": [
    "Y = np.array([[1]])\n",
    "M=2\n",
    "X=np.array([[3],[2]])\n",
    "\n",
    "W1 =initialWeigths(M,3)#first parameter is the number of nueron in input layer second one is the numebr of nueron in this layer\n",
    "W2 =initialWeigths(1,M+1)\n",
    "# print(\"W1\",W1)\n",
    "# print(\"W2\",W2)\n",
    "# print(\"X\",X)\n",
    "# X_ = np.array([[2]]) #输入层\n",
    "# Y_ = np.array([[1]]) #输出值\n",
    "# W1_ =np.array([[0.1,0.2],[0.3,0.4]])\n",
    "# W2_ =np.array([[0.2,1,-3]])\n",
    "# W3_ =np.array([[1,2]])\n",
    "WW_array= []\n",
    "WW_array.append(W1)\n",
    "WW_array.append(W2)\n",
    "\n",
    "\n",
    "X_array_test, S_array_test,delta_array_test,dw_test  = altogether(WW_array,X,Y)\n",
    "print(\"X_array\", X_array_test)\n",
    "# print(\"delta_array\", delta_array_test)\n",
    "print(\"S_array\", S_array_test)\n",
    "print(\"delta_array \\n\", delta_array_test)\n",
    "print(\"dw \\n\", dw_test)"
   ]
  },
  {
   "cell_type": "code",
   "execution_count": null,
   "metadata": {},
   "outputs": [],
   "source": []
  },
  {
   "cell_type": "code",
   "execution_count": null,
   "metadata": {},
   "outputs": [],
   "source": []
  }
 ],
 "metadata": {
  "kernelspec": {
   "display_name": "Python 3",
   "language": "python",
   "name": "python3"
  },
  "language_info": {
   "codemirror_mode": {
    "name": "ipython",
    "version": 3
   },
   "file_extension": ".py",
   "mimetype": "text/x-python",
   "name": "python",
   "nbconvert_exporter": "python",
   "pygments_lexer": "ipython3",
   "version": "3.8.6"
  }
 },
 "nbformat": 4,
 "nbformat_minor": 4
}
