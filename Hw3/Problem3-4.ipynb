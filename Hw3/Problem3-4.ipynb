{
 "cells": [
  {
   "cell_type": "code",
   "execution_count": 1,
   "metadata": {},
   "outputs": [],
   "source": [
    "# Import packages\n",
    "import h5py \n",
    "import matplotlib.pyplot as plt\n",
    "import numpy as np\n",
    "import seaborn as sns\n",
    "import pandas as pd\n",
    "from random import seed\n",
    "from random import randint"
   ]
  },
  {
   "cell_type": "code",
   "execution_count": 2,
   "metadata": {},
   "outputs": [],
   "source": [
    "def Forward(X,W):\n",
    "    S = np.matmul(W.T, X)\n",
    "    output = np.tanh(S)\n",
    "    return output, S"
   ]
  },
  {
   "cell_type": "code",
   "execution_count": 3,
   "metadata": {},
   "outputs": [],
   "source": [
    "def forwardPropagation(X0,W):\n",
    "    X_array = [] \n",
    "    S_array = []\n",
    "    X_array.append(X0)\n",
    "    layer_count = len(W)\n",
    "    for l in range (0, layer_count):\n",
    "        if(l == 0):\n",
    "\n",
    "            X,S = Forward(X0,W[l])\n",
    "            X = np.vstack([[1], X])\n",
    "            \n",
    "        elif(l ==layer_count-1):\n",
    "\n",
    "            X,S = Forward(X_array[l],W[l])\n",
    "            \n",
    "        else:\n",
    "\n",
    "            X,S = Forward(X_array[l],W[l])\n",
    "            X = np.vstack([[1], X])\n",
    "            \n",
    "        X_array.append(X)\n",
    "        S_array.append(S)\n",
    "    return X_array,S_array"
   ]
  },
  {
   "cell_type": "code",
   "execution_count": 4,
   "metadata": {},
   "outputs": [],
   "source": [
    "def tanh_prime(X):\n",
    "    result = 1- X**2\n",
    "    return result"
   ]
  },
  {
   "cell_type": "code",
   "execution_count": 5,
   "metadata": {},
   "outputs": [],
   "source": [
    "def pointwise_theta(X):\n",
    "    result = 1 - np.multiply(X,X)\n",
    "    return result"
   ]
  },
  {
   "cell_type": "code",
   "execution_count": 6,
   "metadata": {},
   "outputs": [],
   "source": [
    "def pointwise(X,Y):\n",
    "    result = np.multiply(X,Y)\n",
    "    return result"
   ]
  },
  {
   "cell_type": "code",
   "execution_count": 7,
   "metadata": {},
   "outputs": [],
   "source": [
    "def sign(X):\n",
    "    if(X == 0):\n",
    "        return 0\n",
    "    elif(X > 0):\n",
    "        return 1\n",
    "    else:\n",
    "        return -1"
   ]
  },
  {
   "cell_type": "code",
   "execution_count": 8,
   "metadata": {},
   "outputs": [],
   "source": [
    "def backwardPropagation(X,S,W,Y):\n",
    "    delta_array = []\n",
    "    layer_count = len(W)\n",
    "    i = 0\n",
    "    for l in range (layer_count,0,-1):\n",
    "        if(l == layer_count):\n",
    "#             print(\"X[l]\",X[l])\n",
    "#             print(\"Y\",X[l])\n",
    "#             print(\"tanh_prime(X[l])\",tanh_prime(X[l]))\n",
    "#             print(\"X[l]\",X[l])\n",
    "            delta = 2*(X[l]-Y) * tanh_prime(X[l])\n",
    "#             print(\"first dealtaa\",delta)\n",
    "        else:\n",
    "           \n",
    "            if(len(delta_array[i])>1):\n",
    "                delta_temp = np.delete(delta_array[i],0)\n",
    "            else:\n",
    "                delta_temp = delta_array[i]\n",
    "\n",
    "            pointwise_X = pointwise_theta(X[l])\n",
    "            pointwise_delta_weight = pointwise(delta_temp,W[l])\n",
    "\n",
    "            delta = pointwise(pointwise_X, pointwise_delta_weight)\n",
    "            i+=1\n",
    "\n",
    "        delta_array.append(delta)\n",
    "    \n",
    "    return delta_array"
   ]
  },
  {
   "cell_type": "code",
   "execution_count": 9,
   "metadata": {},
   "outputs": [],
   "source": [
    "def findError(predict,Y):\n",
    "    return ((predict-Y)**2).mean()"
   ]
  },
  {
   "cell_type": "code",
   "execution_count": 10,
   "metadata": {},
   "outputs": [],
   "source": [
    "def integration(W_array, X,Y):\n",
    "    G_array= []\n",
    "    Ein = 0\n",
    "    layer_count = len(W_array)\n",
    "    error_count = 0\n",
    "    predict_y = np.empty([len(X),1])\n",
    "#     print(predict_y)\n",
    "    for l in range(0, len(W_array)): #initial G_array\n",
    "        temp = 0*W_array[l] \n",
    "        G_array.append(temp)\n",
    "    for i in range(0,len(X)):\n",
    "  \n",
    "        X_array,S_array = forwardPropagation(X[i],W_array)\n",
    "\n",
    "        delta_array = backwardPropagation(X_array,S_array,W_array,Y[i])\n",
    "\n",
    "        Ein = Ein + 1/len(X)*((X_array[layer_count]-Y[i])**2)\n",
    "#         print(\"i = \",i,X_array[layer_count])\n",
    "        if(sign(X_array[layer_count])!=Y[i]):\n",
    "            error_count+=1\n",
    "        for l in range (0,layer_count):\n",
    "            if(len(delta_array[l])>1):\n",
    "\n",
    "                delta_temp = np.delete(delta_array[l],0)\n",
    "\n",
    "                delta_temp = delta_temp.T\n",
    "\n",
    "            else:\n",
    "                delta_temp = delta_array[l]\n",
    "\n",
    "                dw = delta_temp*X_array[layer_count-l-1]\n",
    "\n",
    "#             print(i,\" \",delta_temp)\n",
    "                G_array[layer_count-l-1] = G_array[layer_count-l-1] + 1/len(X)*dw\n",
    "\n",
    "    return Ein, G_array, error_count,predict_y"
   ]
  },
  {
   "cell_type": "code",
   "execution_count": 41,
   "metadata": {},
   "outputs": [],
   "source": [
    "def stochastic_gradient_descent(W_array,Data_set_X,Data_set_Y,learning_rate= 0.5,iteration = 10):\n",
    "    \n",
    "    error_count_array = []\n",
    "    iterate_array = []\n",
    "    for iterate in range(0,iteration):\n",
    "        value = randint(0,1560)\n",
    "        X_array = []\n",
    "        Y_array = []\n",
    "        temp_X = Data_set_X[value]\n",
    "        temp_Y = Data_set_Y[value]\n",
    "        X = np.array(temp_X)\n",
    "        Y = np.array(temp_Y)\n",
    "        X_array.append(X)\n",
    "        Y_array.append(Y)\n",
    "        Ein_ , G_, error_count_,predict_y= integration(W_array, X_array,Y_array)\n",
    "        for l in range(0, len(W_array)):\n",
    "            W_array[l] = W_array[l]-learning_rate*G_[l]\n",
    "        if(iterate %10000 ==0):\n",
    "            Ein , G, error_count,predict_y = integration(W_array, Data_set_X,Data_set_Y)\n",
    "            \n",
    "            error_count_array.append(error_count/1561)\n",
    "            iterate_array.append(iterate)\n",
    "    return error_count_array,iterate_array,W_array"
   ]
  },
  {
   "cell_type": "code",
   "execution_count": 42,
   "metadata": {},
   "outputs": [],
   "source": [
    "def mini_batch_gradient_descent(W_array,Data_set_X,Data_set_Y,learning_rate= 0.5,iteration = 10):\n",
    "    error_count_array = []\n",
    "    iterate_array = []\n",
    "    index_array = []\n",
    "    for iterate in range(0,iteration):\n",
    "        X_array = []\n",
    "        Y_array = []\n",
    "        for i in range (0,32):\n",
    "            index_array.append(randint(0,1560))\n",
    "        for i in range (0,32):\n",
    "            temp_X = Data_set_X[index_array[i]]\n",
    "            temp_Y = Data_set_Y[index_array[i]]\n",
    "            X = np.array(temp_X)\n",
    "            Y = np.array(temp_Y)\n",
    "            X_array.append(X)\n",
    "            Y_array.append(Y)\n",
    "        Ein_ , G_, error_count_,predict_y= integration(W_array, X_array,Y_array)\n",
    "        for l in range(0, len(W_array)):\n",
    "            W_array[l] = W_array[l]-learning_rate*G_[l]\n",
    "        if(iterate %250 ==0):\n",
    "            Ein , G, error_count,predict_y = integration(W_array, Data_set_X,Data_set_Y)\n",
    "            \n",
    "            error_count_array.append(error_count/1561)\n",
    "            iterate_array.append(iterate*32)\n",
    "    return error_count_array,iterate_array,W_array"
   ]
  },
  {
   "cell_type": "code",
   "execution_count": 13,
   "metadata": {},
   "outputs": [],
   "source": [
    "def vanilla_gradient_descent(W_array,Data_set_X,Data_set_Y,learning_rate = 0.5,iteration = 10):\n",
    "    error_count_array = []\n",
    "    iterate_array = []\n",
    "    for iterate in range (0,iteration):\n",
    "        Ein , G, error_count,predict_y= integration(W_array, Data_set_X,Data_set_Y)\n",
    "#         print(Ein)\n",
    "        for l in range(0, len(W_array)):\n",
    "\n",
    "            W_array[l] = W_array[l]-learning_rate*G[l]\n",
    "        if(iterate%50 == 0):\n",
    "            error_count_array.append(error_count/1561)\n",
    "            iterate_array.append(iterate*1561)\n",
    "\n",
    "    return error_count_array,iterate_array,W_array"
   ]
  },
  {
   "cell_type": "code",
   "execution_count": 14,
   "metadata": {},
   "outputs": [],
   "source": [
    "def initialWeigths(NEXT_LAYER_SIZE, INPUT_LAYER_SIZE):\n",
    "    W = np.random.randn(INPUT_LAYER_SIZE, NEXT_LAYER_SIZE) * \\\n",
    "                np.sqrt(2.0/INPUT_LAYER_SIZE)*0.01 \n",
    "    return W"
   ]
  },
  {
   "cell_type": "markdown",
   "metadata": {},
   "source": [
    "## import data from HW digits set"
   ]
  },
  {
   "cell_type": "code",
   "execution_count": 15,
   "metadata": {},
   "outputs": [],
   "source": [
    "plt.rcParams['figure.figsize'] = (20.0, 10.0) \n",
    "%matplotlib inline\n",
    "\n",
    "training_data1_df = pd.read_csv(\"ZipDigits_traning.csv\") # laod data from ZipDigits.training\n",
    "                                                         # to do this step I firstly converted the file to csv file\n",
    "training_data2_df = pd.read_csv(\"ZipDigits_test.csv\")\n",
    "\n",
    "training_data1_df.shape\n",
    "training_data1_df = training_data1_df.astype(float)\n",
    "\n",
    "training_data2_df.shape\n",
    "training_data2_df = training_data2_df.astype(float)\n"
   ]
  },
  {
   "cell_type": "code",
   "execution_count": 16,
   "metadata": {},
   "outputs": [],
   "source": [
    "def prepare(dataset):\n",
    "        filtered_training_data_1 = dataset['1'] == 1.0  #filter data 1\n",
    "        filtered_training_data_5 = dataset['1'] == 5.0 #filter data 5\n",
    "\n",
    "        training_data1_df_1 = dataset[filtered_training_data_1]\n",
    "        training_data1_df_5 = dataset[filtered_training_data_5]\n",
    "        \n",
    "        \n",
    "        frames = [training_data1_df_1,training_data1_df_5]\n",
    "        filtered_df = pd.concat(frames)   #add two frames together\n",
    "        return filtered_df"
   ]
  },
  {
   "cell_type": "code",
   "execution_count": 17,
   "metadata": {},
   "outputs": [],
   "source": [
    "filtered = prepare(training_data1_df)\n",
    "filtered.index = np.arange(1, len(filtered) + 1) # reconstruct filtered data with correct index\n",
    "\n",
    "filtered2 = prepare(training_data2_df)\n",
    "filtered2.index = np.arange(1, len(filtered2) + 1)\n",
    "\n",
    "data_set2 = filtered2.drop(columns=['1'])\n",
    "numpy_data = data_set2.to_numpy()"
   ]
  },
  {
   "cell_type": "code",
   "execution_count": 18,
   "metadata": {},
   "outputs": [],
   "source": [
    "def error(data,label,length,function):\n",
    "    error_count_for_test = 0\n",
    "    for i in range(length):\n",
    "        if(function(data[i,0]) > data[i,1] and label[i] == 1):\n",
    "            error_count_for_test += 1\n",
    "        elif(function(data[i,0]) < data[i,1] and label[i] == -1):\n",
    "            error_count_for_test += 1\n",
    "        else:\n",
    "            error_count_for_test = error_count_for_test\n",
    "\n",
    "    return error_count_for_test"
   ]
  },
  {
   "cell_type": "code",
   "execution_count": 19,
   "metadata": {},
   "outputs": [],
   "source": [
    "def get_dataset(data):\n",
    "        data_set2 = data.drop(columns=['1'])\n",
    "        numpy_data = data_set2.to_numpy()\n",
    "        chcker = data.to_numpy()\n",
    "        length = len(numpy_data)\n",
    "        x1 = np.zeros(length)\n",
    "        negetive = np.zeros(length)\n",
    "        positive = np.zeros(length)# for indensity  in the dataframe -1 is white and 1 is black\n",
    "        x2 = np.zeros(length) # for symmetry\n",
    "        x3 = np.zeros(length)\n",
    "        const = 16\n",
    "\n",
    "        for i in range(length):\n",
    "            for j in range(256):\n",
    "                if(numpy_data[i][j] <= 0):\n",
    "                    negetive[i]+= numpy_data[i][j] #intensity\n",
    "                else:\n",
    "                    positive[i]+= numpy_data[i][j]\n",
    "            x1[i] = 1-abs(negetive[i]/(abs(negetive[i])+positive[i]))\n",
    "#                 x1[i] =1- abs(negetive[i]/256)\n",
    "            \n",
    "        for i in range(length):\n",
    "            image_data = np.reshape(numpy_data[i],(16,16))\n",
    "            for j in range(15):\n",
    "                for x in range(7):\n",
    "                    x2[i] += abs(image_data[j][x]-image_data[j][15-x])\n",
    "                    \n",
    "        for i in range(length):\n",
    "            image_data = np.reshape(numpy_data[i],(16,16))\n",
    "            for j in range(7):\n",
    "                for x in range(15):\n",
    "                    x3[i] += abs(image_data[j][x]-image_data[15-j][x])\n",
    "                        \n",
    "        for i in range(length):\n",
    "#             x2[i] = 1-((x2[i]+x3[i])/200)\n",
    "            x2[i] = 1-(x2[i]+x3[i]/200)\n",
    "        Data_vector = np.array(list(zip(x1,x2)))\n",
    "        return Data_vector , chcker"
   ]
  },
  {
   "cell_type": "code",
   "execution_count": 20,
   "metadata": {},
   "outputs": [
    {
     "name": "stdout",
     "output_type": "stream",
     "text": [
      "1561\n"
     ]
    }
   ],
   "source": [
    "data_training, list_training = get_dataset(filtered)\n",
    "data_test, list_test = get_dataset(filtered2)\n",
    "Y = []\n",
    "\n",
    "length_training = len(data_training)\n",
    "print(length_training)\n",
    "length_test = len(data_test) # get test data set\n",
    "\n",
    "data_training_y = [] #array to label 1 or 5 1 is 1 and -1 is 5\n",
    "Data_set_X = []\n",
    "for i in range(length_training):\n",
    "    if(list_training[i][0] == 1.0):\n",
    "        data_training_y.append(1);\n",
    "    else:\n",
    "        data_training_y.append(-1);\n",
    "for j in range(length_training):\n",
    "    temp = np.matrix(data_training[j])\n",
    "    temp = temp.T\n",
    "    temp = np.array(temp)\n",
    "    temp = np.vstack([[1], temp])\n",
    "    Data_set_X.append(temp)\n"
   ]
  },
  {
   "cell_type": "code",
   "execution_count": 21,
   "metadata": {},
   "outputs": [
    {
     "data": {
      "text/plain": [
       "[<matplotlib.lines.Line2D at 0x164853eba30>]"
      ]
     },
     "execution_count": 21,
     "metadata": {},
     "output_type": "execute_result"
    },
    {
     "data": {
      "image/png": "[encoded data removed]",
      "text/plain": [
       "<Figure size 432x288 with 1 Axes>"
      ]
     },
     "metadata": {
      "needs_background": "light"
     },
     "output_type": "display_data"
    }
   ],
   "source": [
    "M=10\n",
    "W1 = initialWeigths(M,3)\n",
    "\n",
    "W2 = initialWeigths(1,M+1)\n",
    "\n",
    "Ein_array = []\n",
    "iteration = []\n",
    "A = []\n",
    "A.append(W1)\n",
    "A.append(W2)\n",
    "\n",
    "error_count_array_vanilla,iterate_vanilla,w_array_vanilla = vanilla_gradient_descent(A,Data_set_X,data_training_y,learning_rate =0.1,iteration = 1260)\n",
    "plt.plot(iterate_vanilla,error_count_array_vanilla)"
   ]
  },
  {
   "cell_type": "code",
   "execution_count": 43,
   "metadata": {},
   "outputs": [
    {
     "data": {
      "text/plain": [
       "[<matplotlib.lines.Line2D at 0x1648bb77a90>]"
      ]
     },
     "execution_count": 43,
     "metadata": {},
     "output_type": "execute_result"
    },
    {
     "data": {
      "image/png": "[encoded data removed]",
      "text/plain": [
       "<Figure size 432x288 with 1 Axes>"
      ]
     },
     "metadata": {
      "needs_background": "light"
     },
     "output_type": "display_data"
    }
   ],
   "source": [
    "M=10\n",
    "W1 = initialWeigths(M,3)\n",
    "W2 = initialWeigths(1,M+1)\n",
    "\n",
    "Ein_array = []\n",
    "iteration = []\n",
    "B = []\n",
    "B.append(W1)\n",
    "B.append(W2)\n",
    "error_count_array_stochastic,iterate_stochastic,w_array_stochastic = stochastic_gradient_descent(B,Data_set_X,data_training_y,learning_rate =0.1,iteration = 2000000)\n",
    "plt.plot(iterate_stochastic,error_count_array_stochastic)"
   ]
  },
  {
   "cell_type": "code",
   "execution_count": 44,
   "metadata": {},
   "outputs": [
    {
     "data": {
      "text/plain": [
       "[<matplotlib.lines.Line2D at 0x16486d43d00>]"
      ]
     },
     "execution_count": 44,
     "metadata": {},
     "output_type": "execute_result"
    },
    {
     "data": {
      "image/png": "[encoded data removed]",
      "text/plain": [
       "<Figure size 432x288 with 1 Axes>"
      ]
     },
     "metadata": {
      "needs_background": "light"
     },
     "output_type": "display_data"
    }
   ],
   "source": [
    "M=10\n",
    "W1 = initialWeigths(M,3)\n",
    "W2 = initialWeigths(1,M+1)\n",
    "\n",
    "Ein_array = []\n",
    "iteration = []\n",
    "C = []\n",
    "C.append(W1)\n",
    "C.append(W2)\n",
    "error_count_array_mini_batch,iterate_mini_batch,w_array_mini_batch = mini_batch_gradient_descent(C,Data_set_X,data_training_y,learning_rate =0.1,iteration = 62500)\n",
    "plt.plot(iterate_mini_batch,error_count_array_mini_batch)"
   ]
  },
  {
   "cell_type": "code",
   "execution_count": 52,
   "metadata": {},
   "outputs": [
    {
     "data": {
      "text/plain": [
       "<matplotlib.legend.Legend at 0x1648c8ce2e0>"
      ]
     },
     "execution_count": 52,
     "metadata": {},
     "output_type": "execute_result"
    },
    {
     "data": {
      "image/png": "[encoded data removed]",
      "text/plain": [
       "<Figure size 432x288 with 1 Axes>"
      ]
     },
     "metadata": {
      "needs_background": "light"
     },
     "output_type": "display_data"
    }
   ],
   "source": [
    " \n",
    "# multiple line plot\n",
    "plt.plot(iterate_mini_batch,error_count_array_mini_batch,color='blue',label=\"mini_batch\")\n",
    "plt.plot(iterate_stochastic,error_count_array_stochastic,label=\"stochastic\")\n",
    "plt.plot(iterate_vanilla,error_count_array_vanilla,color='red',label=\"vanilla\")\n",
    "plt.legend()\n"
   ]
  },
  {
   "cell_type": "code",
   "execution_count": 48,
   "metadata": {},
   "outputs": [],
   "source": [
    "data_training, list_training = get_dataset(filtered)\n",
    "data_test, list_test = get_dataset(filtered2)\n",
    "Y_test = []\n",
    "\n",
    "\n",
    "Data_test_y = [] #array to label 1 or 5 1 is 1 and -1 is 5\n",
    "Data_test_X = []\n",
    "for i in range(length_test):\n",
    "    if(list_test[i][0] == 1.0):\n",
    "        Data_test_y.append(1);\n",
    "    else:\n",
    "        Data_test_y.append(-1);\n",
    "for j in range(length_test):\n",
    "    temp = np.matrix(data_test[j])\n",
    "    temp = temp.T\n",
    "    temp = np.array(temp)\n",
    "    temp = np.vstack([[1], temp])\n",
    "    Data_test_X.append(temp)"
   ]
  },
  {
   "cell_type": "code",
   "execution_count": 49,
   "metadata": {},
   "outputs": [
    {
     "name": "stdout",
     "output_type": "stream",
     "text": [
      "vanilla gradient descent error_count out of  424   13\n",
      "error rate of test set 0.030660377358490566\n"
     ]
    }
   ],
   "source": [
    "Ein_vanilla_test, G_array_vanilla_test, error_count_vanilla_test,predict_y_vanilla_test = integration(w_array_vanilla, Data_test_X,Data_test_y)\n",
    "print(\"vanilla gradient descent error_count out of \",length_test,\" \",error_count_vanilla_test)\n",
    "print(\"error rate of test set\",error_count_vanilla_test/length_test)"
   ]
  },
  {
   "cell_type": "code",
   "execution_count": 51,
   "metadata": {},
   "outputs": [
    {
     "name": "stdout",
     "output_type": "stream",
     "text": [
      "vanilla gradient descent error_count out of  424   14\n",
      "error rate of test set 0.0330188679245283\n"
     ]
    }
   ],
   "source": [
    "Ein_stochastic_test, G_array_stochastic_test, error_count_stochastic_test,predict_y_stochastic_test = integration(w_array_stochastic, Data_test_X,Data_test_y)\n",
    "print(\"vanilla gradient descent error_count out of \",length_test,\" \",error_count_stochastic_test)\n",
    "print(\"error rate of test set\",error_count_stochastic_test/length_test)"
   ]
  },
  {
   "cell_type": "code",
   "execution_count": 53,
   "metadata": {},
   "outputs": [
    {
     "name": "stdout",
     "output_type": "stream",
     "text": [
      "vanilla gradient descent error_count out of  424   12\n",
      "error rate of test set 0.02830188679245283\n"
     ]
    }
   ],
   "source": [
    "Ein_mini_batch_test, G_array_mini_batch_test, error_count_mini_batch_test,predict_y_mini_batch_test = integration(w_array_mini_batch, Data_test_X,Data_test_y)\n",
    "print(\"vanilla gradient descent error_count out of \",length_test,\" \",error_count_mini_batch_test)\n",
    "print(\"error rate of test set\",error_count_mini_batch_test/length_test)"
   ]
  },
  {
   "cell_type": "code",
   "execution_count": null,
   "metadata": {},
   "outputs": [],
   "source": []
  }
 ],
 "metadata": {
  "kernelspec": {
   "display_name": "Python 3",
   "language": "python",
   "name": "python3"
  },
  "language_info": {
   "codemirror_mode": {
    "name": "ipython",
    "version": 3
   },
   "file_extension": ".py",
   "mimetype": "text/x-python",
   "name": "python",
   "nbconvert_exporter": "python",
   "pygments_lexer": "ipython3",
   "version": "3.8.6"
  }
 },
 "nbformat": 4,
 "nbformat_minor": 4
}
